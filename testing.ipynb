{
 "cells": [
  {
   "cell_type": "code",
   "execution_count": 1,
   "metadata": {},
   "outputs": [],
   "source": [
    "%load_ext autoreload\n",
    "%autoreload 2"
   ]
  },
  {
   "cell_type": "code",
   "execution_count": 2,
   "metadata": {},
   "outputs": [
    {
     "name": "stderr",
     "output_type": "stream",
     "text": [
      "/home/tyler/anaconda3/envs/AgentFormer/lib/python3.9/site-packages/tqdm/auto.py:21: TqdmWarning: IProgress not found. Please update jupyter and ipywidgets. See https://ipywidgets.readthedocs.io/en/stable/user_install.html\n",
      "  from .autonotebook import tqdm as notebook_tqdm\n"
     ]
    }
   ],
   "source": [
    "import numpy as np\n",
    "import argparse\n",
    "import os\n",
    "import sys\n",
    "import subprocess\n",
    "import shutil\n",
    "\n",
    "sys.path.append(os.getcwd())\n",
    "from data.dataloader import data_generator\n",
    "from utils.torch import *\n",
    "from utils.config import Config\n",
    "from model.model_lib import model_dict\n",
    "from utils.utils import prepare_seed, print_log, mkdir_if_missing\n",
    "import torch"
   ]
  },
  {
   "cell_type": "code",
   "execution_count": 3,
   "metadata": {},
   "outputs": [],
   "source": [
    "import pandas as pd\n",
    "import numpy as np\n",
    "from test import test_model"
   ]
  },
  {
   "cell_type": "code",
   "execution_count": 4,
   "metadata": {},
   "outputs": [],
   "source": [
    "\n",
    "# inspect results\n",
    "gt_path = 'datasets/eth_ucy/inference_data/inference_data.txt'\n",
    "real_path = 'results/inference/results/epoch_0005/test/samples/inference_data/frame_000007/sample_000.txt'"
   ]
  },
  {
   "cell_type": "code",
   "execution_count": 5,
   "metadata": {},
   "outputs": [],
   "source": [
    "cfg = Config('inference')\n",
    "device = 'cpu'"
   ]
  },
  {
   "cell_type": "code",
   "execution_count": 6,
   "metadata": {},
   "outputs": [
    {
     "name": "stdout",
     "output_type": "stream",
     "text": [
      "loading model from checkpoint: results/eth_agentformer_pre/models/model_0030.p\n",
      "loading model from checkpoint: results/inference/models/model_0005.p\n"
     ]
    },
    {
     "data": {
      "text/plain": [
       "<All keys matched successfully>"
      ]
     },
     "execution_count": 6,
     "metadata": {},
     "output_type": "execute_result"
    }
   ],
   "source": [
    "model = model_dict['dlow'](cfg)\n",
    "model.set_device(device)\n",
    "model.eval()\n",
    "\n",
    "cp_path = cfg.model_path % 5\n",
    "print(f'loading model from checkpoint: {cp_path}')\n",
    "model_cp = torch.load(cp_path, map_location='cpu')\n",
    "model.load_state_dict(model_cp['model_dict'], strict=False)"
   ]
  },
  {
   "cell_type": "code",
   "execution_count": 11,
   "metadata": {},
   "outputs": [
    {
     "name": "stdout",
     "output_type": "stream",
     "text": [
      "\n",
      "-------------------------- loading test data --------------------------\n",
      "loading sequence inference_data ...\n",
      "total num samples: 2\n",
      "------------------------------ done --------------------------------\n",
      "\n",
      "testing seq: inference_data, frame: 000007                \r"
     ]
    },
    {
     "name": "stdout",
     "output_type": "stream",
     "text": [
      "testing seq: inference_data, frame: 000008                \n",
      "\n",
      " total_num_pred: 2\n"
     ]
    }
   ],
   "source": [
    "\"\"\" save results and compute metrics \"\"\"\n",
    "epoch = 30\n",
    "split = 'test'\n",
    "log = open(os.path.join(cfg.log_dir, 'log_test.txt'), 'w')\n",
    "generator = data_generator(cfg, log, split=split, phase='testing')\n",
    "save_dir = f'{cfg.result_dir}/epoch_{epoch:04d}/{split}'; mkdir_if_missing(save_dir)\n",
    "eval_dir = f'{save_dir}/samples'\n",
    "test_model(generator, save_dir, cfg, model, device, log)\n",
    "\n",
    "# log_file = os.path.join(cfg.log_dir, 'log_eval.txt')\n",
    "# cmd = f\"python eval.py --dataset {cfg.dataset} --results_dir {eval_dir} --data {split} --log {log_file}\"\n",
    "# subprocess.run(cmd.split(' '))"
   ]
  },
  {
   "cell_type": "code",
   "execution_count": 10,
   "metadata": {},
   "outputs": [
    {
     "name": "stdout",
     "output_type": "stream",
     "text": [
      "\n",
      "-------------------------- loading test data --------------------------\n",
      "loading sequence inference_data ...\n",
      "total num samples: 2\n",
      "------------------------------ done --------------------------------\n",
      "\n",
      "testing seq: inference_data, frame: 000007                \r"
     ]
    },
    {
     "ename": "NameError",
     "evalue": "name 'get_model_prediction' is not defined",
     "output_type": "error",
     "traceback": [
      "\u001b[0;31m---------------------------------------------------------------------------\u001b[0m",
      "\u001b[0;31mNameError\u001b[0m                                 Traceback (most recent call last)",
      "Cell \u001b[0;32mIn[10], line 27\u001b[0m\n\u001b[1;32m     24\u001b[0m     num_pred \u001b[38;5;241m=\u001b[39m save_prediction(gt_motion_3D, data, \u001b[38;5;124m'\u001b[39m\u001b[38;5;124m'\u001b[39m, gt_dir)              \u001b[38;5;66;03m# save gt\u001b[39;00m\n\u001b[1;32m     25\u001b[0m     total_num_pred \u001b[38;5;241m+\u001b[39m\u001b[38;5;241m=\u001b[39m num_pred\n\u001b[0;32m---> 27\u001b[0m \u001b[43mrun_model\u001b[49m\u001b[43m(\u001b[49m\u001b[43m)\u001b[49m\n",
      "Cell \u001b[0;32mIn[10], line 14\u001b[0m, in \u001b[0;36mrun_model\u001b[0;34m()\u001b[0m\n\u001b[1;32m     12\u001b[0m gt_motion_3D \u001b[38;5;241m=\u001b[39m torch\u001b[38;5;241m.\u001b[39mstack(data[\u001b[38;5;124m'\u001b[39m\u001b[38;5;124mfut_motion_3D\u001b[39m\u001b[38;5;124m'\u001b[39m], dim\u001b[38;5;241m=\u001b[39m\u001b[38;5;241m0\u001b[39m)\u001b[38;5;241m.\u001b[39mto(device) \u001b[38;5;241m*\u001b[39m cfg\u001b[38;5;241m.\u001b[39mtraj_scale\n\u001b[1;32m     13\u001b[0m \u001b[38;5;28;01mwith\u001b[39;00m torch\u001b[38;5;241m.\u001b[39mno_grad():\n\u001b[0;32m---> 14\u001b[0m     recon_motion_3D, sample_motion_3D \u001b[38;5;241m=\u001b[39m \u001b[43mget_model_prediction\u001b[49m(data, cfg\u001b[38;5;241m.\u001b[39msample_k)\n\u001b[1;32m     15\u001b[0m recon_motion_3D, sample_motion_3D \u001b[38;5;241m=\u001b[39m recon_motion_3D \u001b[38;5;241m*\u001b[39m cfg\u001b[38;5;241m.\u001b[39mtraj_scale, sample_motion_3D \u001b[38;5;241m*\u001b[39m cfg\u001b[38;5;241m.\u001b[39mtraj_scale\n\u001b[1;32m     17\u001b[0m \u001b[38;5;250m\u001b[39m\u001b[38;5;124;03m\"\"\"save samples\"\"\"\u001b[39;00m\n",
      "\u001b[0;31mNameError\u001b[0m: name 'get_model_prediction' is not defined"
     ]
    }
   ],
   "source": [
    "def run_model():\n",
    "    generator = data_generator(cfg, log, split=split, phase='testing')\n",
    "    data = generator()\n",
    "    if data is None:\n",
    "        return\n",
    "    seq_name, frame = data['seq'], data['frame']\n",
    "\n",
    "    frame = int(frame)\n",
    "    sys.stdout.write('testing seq: %s, frame: %06d                \\r' % (seq_name, frame))  \n",
    "    sys.stdout.flush()\n",
    "\n",
    "    gt_motion_3D = torch.stack(data['fut_motion_3D'], dim=0).to(device) * cfg.traj_scale\n",
    "    with torch.no_grad():\n",
    "        recon_motion_3D, sample_motion_3D = get_model_prediction(data, cfg.sample_k)\n",
    "    recon_motion_3D, sample_motion_3D = recon_motion_3D * cfg.traj_scale, sample_motion_3D * cfg.traj_scale\n",
    "\n",
    "    \"\"\"save samples\"\"\"\n",
    "    recon_dir = os.path.join(save_dir, 'recon'); mkdir_if_missing(recon_dir)\n",
    "    sample_dir = os.path.join(save_dir, 'samples'); mkdir_if_missing(sample_dir)\n",
    "    gt_dir = os.path.join(save_dir, 'gt'); mkdir_if_missing(gt_dir)\n",
    "    for i in range(sample_motion_3D.shape[0]):\n",
    "        save_prediction(sample_motion_3D[i], data, f'/sample_{i:03d}', sample_dir)\n",
    "    save_prediction(recon_motion_3D, data, '', recon_dir)        # save recon\n",
    "    num_pred = save_prediction(gt_motion_3D, data, '', gt_dir)              # save gt\n",
    "    total_num_pred += num_pred\n",
    "\n",
    "run_model()"
   ]
  }
 ],
 "metadata": {
  "kernelspec": {
   "display_name": "AgentFormer",
   "language": "python",
   "name": "python3"
  },
  "language_info": {
   "codemirror_mode": {
    "name": "ipython",
    "version": 3
   },
   "file_extension": ".py",
   "mimetype": "text/x-python",
   "name": "python",
   "nbconvert_exporter": "python",
   "pygments_lexer": "ipython3",
   "version": "3.9.19"
  }
 },
 "nbformat": 4,
 "nbformat_minor": 2
}
