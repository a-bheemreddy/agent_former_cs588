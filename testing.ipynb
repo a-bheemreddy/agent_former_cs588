{
 "cells": [
  {
   "cell_type": "code",
   "execution_count": 37,
   "metadata": {},
   "outputs": [
    {
     "name": "stdout",
     "output_type": "stream",
     "text": [
      "The autoreload extension is already loaded. To reload it, use:\n",
      "  %reload_ext autoreload\n"
     ]
    }
   ],
   "source": [
    "%load_ext autoreload\n",
    "%autoreload 2"
   ]
  },
  {
   "cell_type": "code",
   "execution_count": 38,
   "metadata": {},
   "outputs": [],
   "source": [
    "import numpy as np\n",
    "import argparse\n",
    "import os\n",
    "import sys\n",
    "import subprocess\n",
    "import shutil\n",
    "\n",
    "sys.path.append(os.getcwd())\n",
    "from data.dataloader import data_generator\n",
    "from utils.torch import *\n",
    "from utils.config import Config\n",
    "from model.model_lib import model_dict\n",
    "from utils.utils import prepare_seed, print_log, mkdir_if_missing\n",
    "import torch"
   ]
  },
  {
   "cell_type": "code",
   "execution_count": 39,
   "metadata": {},
   "outputs": [],
   "source": [
    "import pandas as pd\n",
    "import numpy as np\n",
    "from test import test_model, get_model_prediction, save_prediction"
   ]
  },
  {
   "cell_type": "code",
   "execution_count": 40,
   "metadata": {},
   "outputs": [],
   "source": [
    "\n",
    "# inspect results\n",
    "gt_path = 'datasets/eth_ucy/inference_data/inference_data.txt'\n",
    "real_path = 'results/inference/results/epoch_0005/test/samples/inference_data/frame_000007/sample_000.txt'"
   ]
  },
  {
   "cell_type": "code",
   "execution_count": 41,
   "metadata": {},
   "outputs": [],
   "source": [
    "cfg = Config('inference')\n",
    "device = 'cpu'"
   ]
  },
  {
   "cell_type": "code",
   "execution_count": 42,
   "metadata": {},
   "outputs": [
    {
     "name": "stdout",
     "output_type": "stream",
     "text": [
      "loading model from checkpoint: results/eth_agentformer_pre/models/model_0030.p\n",
      "loading model from checkpoint: results/inference/models/model_0005.p\n"
     ]
    },
    {
     "data": {
      "text/plain": [
       "<All keys matched successfully>"
      ]
     },
     "execution_count": 42,
     "metadata": {},
     "output_type": "execute_result"
    }
   ],
   "source": [
    "model = model_dict['dlow'](cfg)\n",
    "model.set_device(device)\n",
    "model.eval()\n",
    "\n",
    "cp_path = cfg.model_path % 5\n",
    "print(f'loading model from checkpoint: {cp_path}')\n",
    "model_cp = torch.load(cp_path, map_location='cpu')\n",
    "model.load_state_dict(model_cp['model_dict'], strict=False)"
   ]
  },
  {
   "cell_type": "code",
   "execution_count": 43,
   "metadata": {},
   "outputs": [
    {
     "name": "stdout",
     "output_type": "stream",
     "text": [
      "\n",
      "-------------------------- loading test data --------------------------\n",
      "loading sequence inference_data ...\n",
      "total num samples: 2\n",
      "------------------------------ done --------------------------------\n",
      "\n",
      "testing seq: inference_data, frame: 000007                \r"
     ]
    },
    {
     "name": "stdout",
     "output_type": "stream",
     "text": [
      "testing seq: inference_data, frame: 000008                \n",
      "\n",
      " total_num_pred: 2\n"
     ]
    }
   ],
   "source": [
    "\"\"\" save results and compute metrics \"\"\"\n",
    "epoch = 30\n",
    "split = 'test'\n",
    "log = open(os.path.join(cfg.log_dir, 'log_test.txt'), 'w')\n",
    "generator = data_generator(cfg, log, split=split, phase='testing')\n",
    "save_dir = f'{cfg.result_dir}/epoch_{epoch:04d}/{split}'; mkdir_if_missing(save_dir)\n",
    "eval_dir = f'{save_dir}/samples'\n",
    "test_model(generator, save_dir, cfg, model, device, log)\n",
    "\n",
    "# log_file = os.path.join(cfg.log_dir, 'log_eval.txt')\n",
    "# cmd = f\"python eval.py --dataset {cfg.dataset} --results_dir {eval_dir} --data {split} --log {log_file}\"\n",
    "# subprocess.run(cmd.split(' '))"
   ]
  },
  {
   "cell_type": "code",
   "execution_count": 47,
   "metadata": {},
   "outputs": [
    {
     "name": "stdout",
     "output_type": "stream",
     "text": [
      "\n",
      "-------------------------- loading test data --------------------------\n",
      "loading sequence inference_data ...\n",
      "total num samples: 2\n",
      "------------------------------ done --------------------------------\n",
      "\n",
      "testing seq: inference_data, frame: 000007                \r"
     ]
    },
    {
     "name": "stdout",
     "output_type": "stream",
     "text": [
      "testing seq: inference_data, frame: 000008                \n",
      "\n",
      " total_num_pred: 2\n"
     ]
    }
   ],
   "source": [
    "generator = data_generator(cfg, log, split=split, phase='testing')\n",
    "total_num_pred = 0\n",
    "\n",
    "def run_model():\n",
    "    # generator = data_generator(cfg, log, split=split, phase='testing')\n",
    "    data = generator()\n",
    "    if data is None:\n",
    "        return\n",
    "    seq_name, frame = data['seq'], data['frame']\n",
    "\n",
    "    frame = int(frame)\n",
    "    sys.stdout.write('testing seq: %s, frame: %06d                \\r' % (seq_name, frame))  \n",
    "    sys.stdout.flush()\n",
    "\n",
    "    gt_motion_3D = torch.stack(data['fut_motion_3D'], dim=0).to(device) * cfg.traj_scale\n",
    "    with torch.no_grad():\n",
    "        recon_motion_3D, sample_motion_3D = get_model_prediction(data, cfg.sample_k, model)\n",
    "    recon_motion_3D, sample_motion_3D = recon_motion_3D * cfg.traj_scale, sample_motion_3D * cfg.traj_scale\n",
    "\n",
    "    \"\"\"save samples\"\"\"\n",
    "    recon_dir = os.path.join(save_dir, 'recon'); mkdir_if_missing(recon_dir)\n",
    "    sample_dir = os.path.join(save_dir, 'samples'); mkdir_if_missing(sample_dir)\n",
    "    gt_dir = os.path.join(save_dir, 'gt'); mkdir_if_missing(gt_dir)\n",
    "    for i in range(sample_motion_3D.shape[0]):\n",
    "        save_prediction(sample_motion_3D[i], data, f'/sample_{i:03d}', sample_dir, cfg)\n",
    "    save_prediction(recon_motion_3D, data, '', recon_dir, cfg)        # save recon\n",
    "    num_pred = save_prediction(gt_motion_3D, data, '', gt_dir, cfg)              # save gt\n",
    "    # total_num_pred += num_pred\n",
    "    return num_pred\n",
    "\n",
    "while not generator.is_epoch_end():\n",
    "    total_num_pred += run_model()\n",
    "print_log(f'\\n\\n total_num_pred: {total_num_pred}', log)"
   ]
  }
 ],
 "metadata": {
  "kernelspec": {
   "display_name": "AgentFormer",
   "language": "python",
   "name": "python3"
  },
  "language_info": {
   "codemirror_mode": {
    "name": "ipython",
    "version": 3
   },
   "file_extension": ".py",
   "mimetype": "text/x-python",
   "name": "python",
   "nbconvert_exporter": "python",
   "pygments_lexer": "ipython3",
   "version": "3.9.19"
  }
 },
 "nbformat": 4,
 "nbformat_minor": 2
}
