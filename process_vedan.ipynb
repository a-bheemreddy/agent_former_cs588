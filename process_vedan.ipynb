{
 "cells": [
  {
   "cell_type": "code",
   "execution_count": 2,
   "metadata": {},
   "outputs": [],
   "source": [
    "import csv\n",
    "\n",
    "# Open the txt file\n",
    "with open(\"tracking_just_vedan.txt\", \"r\") as file:\n",
    "    csv_reader = csv.reader(file, delimiter=\" \")\n",
    "\n",
    "    # Create a new list to store the filtered rows\n",
    "    filtered_rows = []\n",
    "\n",
    "    # Iterate over each row in the file\n",
    "    for row in csv_reader:\n",
    "        # Check if the second column (pedestrian id) is 1\n",
    "        if row[1] == \"1.0\":\n",
    "            # If it is 1, append the row to the filtered_rows list\n",
    "            filtered_rows.append(row)\n",
    "\n",
    "# Open a new file to write the filtered rows\n",
    "with open(\"processed_vedan.txt\", \"w\") as file:\n",
    "    # Write each filtered row to the new file\n",
    "    for row in filtered_rows:\n",
    "        file.write(\" \".join(row) + \"\\n\")"
   ]
  },
  {
   "cell_type": "code",
   "execution_count": 1,
   "metadata": {},
   "outputs": [],
   "source": [
    "import csv\n",
    "\n",
    "# Open the txt file\n",
    "with open(\"tracking_parallel.txt\", \"r\") as file:\n",
    "    csv_reader = csv.reader(file, delimiter=\" \")\n",
    "\n",
    "    # Create a new list to store the filtered rows\n",
    "    filtered_rows = []\n",
    "\n",
    "    # Iterate over each row in the file\n",
    "    for row in csv_reader:\n",
    "        # Only keep the first two pedestrians IDs since there were only\n",
    "        # two pedestrians we kept track of and 1.0 and 2.0 were in all 41 frames\n",
    "        if row[1] == \"1.0\" or row[1] == \"2.0\":\n",
    "            # If it is 1, append the row to the filtered_rows list\n",
    "            filtered_rows.append(row)\n",
    "\n",
    "# Open a new file to write the filtered rows\n",
    "with open(\"processed_parallel_tracking.txt\", \"w\") as file:\n",
    "    # Write each filtered row to the new file\n",
    "    for row in filtered_rows:\n",
    "        file.write(\" \".join(row) + \"\\n\")"
   ]
  },
  {
   "cell_type": "code",
   "execution_count": 3,
   "metadata": {},
   "outputs": [],
   "source": [
    "import numpy as np\n",
    "\n",
    "def inverse_project(H, loc):\n",
    "    locHomogenous = np.hstack((loc, 1))\n",
    "    locHomogenous = np.dot(H, locHomogenous)  # to image frame\n",
    "    locXYZ = locHomogenous / locHomogenous[2]  # to pixels\n",
    "    return locXYZ[:2]\n",
    "\n",
    "# Load the homography matrix (assuming it's stored in 'H.txt')\n",
    "H_iw = np.loadtxt('./H.txt')\n",
    "\n",
    "# Open the input and output files\n",
    "input_file = './processed_parallel.txt'\n",
    "output_file = './processed_parallel_pixels.txt'\n",
    "\n",
    "with open(input_file, 'r') as file:\n",
    "    lines = file.readlines()\n",
    "\n",
    "# Open the output file in write mode\n",
    "with open(output_file, 'w') as file:\n",
    "    for line in lines:\n",
    "        # Split the line into columns\n",
    "        columns = line.split()\n",
    "        \n",
    "        # Extract the x and y coordinates (assuming they are in the 4th to last and 2nd to last columns)\n",
    "        x = float(columns[-4])\n",
    "        y = float(columns[-2])\n",
    "        \n",
    "        # Convert the ground coordinates to pixel locations\n",
    "        px, py = inverse_project(np.linalg.inv(H_iw), np.array([x, y]))\n",
    "        \n",
    "        # Update the columns with the pixel locations\n",
    "        columns[-4] = str(px)\n",
    "        columns[-2] = str(py)\n",
    "        \n",
    "        # Write the modified line to the output file\n",
    "        file.write(' '.join(columns) + '\\n')"
   ]
  }
 ],
 "metadata": {
  "kernelspec": {
   "display_name": "default",
   "language": "python",
   "name": "python3"
  },
  "language_info": {
   "codemirror_mode": {
    "name": "ipython",
    "version": 3
   },
   "file_extension": ".py",
   "mimetype": "text/x-python",
   "name": "python",
   "nbconvert_exporter": "python",
   "pygments_lexer": "ipython3",
   "version": "3.11.4"
  }
 },
 "nbformat": 4,
 "nbformat_minor": 2
}
