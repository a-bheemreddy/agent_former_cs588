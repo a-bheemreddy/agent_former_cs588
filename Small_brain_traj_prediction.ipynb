{
 "cells": [
  {
   "cell_type": "code",
   "execution_count": 25,
   "metadata": {},
   "outputs": [],
   "source": [
    "import numpy as np\n",
    "import pandas as pd\n",
    "from scipy.optimize import curve_fit\n",
    "\n",
    "# Process the data and convert it into a pandas DataFrame\n",
    "data = []\n",
    "with open(\"processed_parallel_tracking.txt\", \"r\") as file:\n",
    "    for line in file:\n",
    "        values = line.strip().split()\n",
    "        frame = float(values[0])\n",
    "        pedestrian_id = float(values[1])\n",
    "        x = float(values[-4])\n",
    "        y = float(values[-2])\n",
    "        data.append([frame, pedestrian_id, x, y])\n",
    "\n",
    "df = pd.DataFrame(data, columns=[\"frame\", \"pedestrian_id\", \"x\", \"y\"])\n"
   ]
  },
  {
   "cell_type": "code",
   "execution_count": 19,
   "metadata": {},
   "outputs": [
    {
     "data": {
      "text/plain": [
       "pedestrian_id\n",
       "1.0    54\n",
       "Name: count, dtype: int64"
      ]
     },
     "execution_count": 19,
     "metadata": {},
     "output_type": "execute_result"
    }
   ],
   "source": [
    "# count amount of each value in the pedestrian_id column\n"
   ]
  },
  {
   "cell_type": "code",
   "execution_count": 26,
   "metadata": {},
   "outputs": [
    {
     "name": "stdout",
     "output_type": "stream",
     "text": [
      "ade is 0.919453016208007 while fde is 1.6762692876586454\n"
     ]
    }
   ],
   "source": [
    "\n",
    "import numpy as np\n",
    "\n",
    "def polynomial_func(x, a, b):\n",
    "    return a * x + b\n",
    "\n",
    "def predict_trajectory(past_positions, future_steps=12):\n",
    "    # Number of past timesteps\n",
    "    past_steps = len(past_positions)\n",
    "    \n",
    "    # Prepare the input features (time steps)\n",
    "    t = np.array(range(past_steps))\n",
    "    \n",
    "    # Fit the polynomial curve\n",
    "    coeffs, _ = curve_fit(polynomial_func, t, past_positions)\n",
    "    \n",
    "    # Predict future positions\n",
    "    future_time_steps = np.array(range(past_steps, past_steps + future_steps))\n",
    "    future_positions = polynomial_func(future_time_steps, *coeffs)\n",
    "    \n",
    "    return future_positions\n",
    "\n",
    "# compute ade and fde of predicted trajectory x and y compared to gt_future_x and gt_future_y\n",
    "def compute_ade_fde(predict_future_x, pred_future_y, gt_future_x, gt_future_y):\n",
    "    ade = np.mean(np.sqrt((predict_future_x - gt_future_x)**2 + (pred_future_y - gt_future_y)**2))\n",
    "    fde = np.sqrt((predict_future_x[-1] - gt_future_x[-1])**2 + (pred_future_y[-1] - gt_future_y[-1])**2)\n",
    "    return ade, fde\n",
    "\n",
    "past_steps = 8\n",
    "future_steps = 12\n",
    "# create past_x data and past_y data and gt_future_x and gt_future_y for all frames which have 8 past and 12 future steps\n",
    "max_frame = int(df[\"frame\"].max())\n",
    "total_ade = 0\n",
    "total_fde = 0\n",
    "for i in range(past_steps, max_frame - future_steps):\n",
    "    past_x = df[df[\"pedestrian_id\"] == 1][\"x\"].values[i-past_steps:i]\n",
    "    past_y = df[df[\"pedestrian_id\"] == 1][\"y\"].values[i-past_steps:i]\n",
    "    gt_future_x = df[df[\"pedestrian_id\"] == 1][\"x\"].values[i:i+future_steps]\n",
    "    gt_future_y = df[df[\"pedestrian_id\"] == 1][\"y\"].values[i:i+future_steps]\n",
    "\n",
    "    predicted_trajectory_x = predict_trajectory(past_x)\n",
    "    predicted_trajectory_y = predict_trajectory(past_y)\n",
    "\n",
    "    ade, fde = compute_ade_fde(predicted_trajectory_x, predicted_trajectory_y, gt_future_x, gt_future_y)\n",
    "    total_ade += ade\n",
    "    total_fde += fde\n",
    "# divide by the number of frames to get the average\n",
    "average_ade =  total_ade / (max_frame - 20)\n",
    "average_fde = total_fde / (max_frame - 20)\n",
    "print(f\"ade is {average_ade} while fde is {average_fde}\")\n",
    "\n",
    "\n",
    "\n",
    "\n",
    "\n",
    "    "
   ]
  },
  {
   "cell_type": "code",
   "execution_count": 13,
   "metadata": {},
   "outputs": [
    {
     "name": "stdout",
     "output_type": "stream",
     "text": [
      "ade is 0.9525972394048189 while fde is 1.5149965574095012\n"
     ]
    }
   ],
   "source": [
    "\n",
    "import numpy as np\n",
    "\n",
    "def polynomial_func(x, a, b):\n",
    "    return a * x + b\n",
    "\n",
    "def predict_trajectory(past_x, past_y, future_steps=12):\n",
    "    # Number of past timesteps\n",
    "    past_steps = len(past_x)\n",
    "    \n",
    "    # Prepare the input features (time steps)\n",
    "    t = np.array(range(past_steps))\n",
    "    \n",
    "    # Fit the polynomial curve\n",
    "    t_to_x_coeffs, _ = curve_fit(polynomial_func, t, past_x)\n",
    "    \n",
    "    # Predict future positions\n",
    "    future_time_steps = np.array(range(past_steps, past_steps + future_steps))\n",
    "    future_x_positions = polynomial_func(future_time_steps, *t_to_x_coeffs)\n",
    "    # use future x positions to predict future y positions\n",
    "    x_to_y_coeffs, _ = curve_fit(polynomial_func, past_x, past_y)\n",
    "    future_y_positions = polynomial_func(future_x_positions, *x_to_y_coeffs)\n",
    "    \n",
    "    return future_x_positions, future_y_positions\n",
    "\n",
    "\n",
    "\n",
    "\n",
    "\n",
    "# create past_x data and past_y data and gt_future_x and gt_future_y for all frames which have 8 past and 12 future steps\n",
    "max_frame = int(df[\"frame\"].max())\n",
    "total_ade = 0\n",
    "total_fde = 0\n",
    "for i in range(7, max_frame - 13):\n",
    "    past_x = df[df[\"pedestrian_id\"] == 1][\"x\"].values[i-7:i+1]\n",
    "    past_y = df[df[\"pedestrian_id\"] == 1][\"y\"].values[i-7:i+1]\n",
    "    gt_future_x = df[df[\"pedestrian_id\"] == 1][\"x\"].values[i+1:i+13]\n",
    "    gt_future_y = df[df[\"pedestrian_id\"] == 1][\"y\"].values[i+1:i+13]\n",
    "\n",
    "    predicted_trajectory_x, predicted_trajectory_y = predict_trajectory(past_x, past_y)\n",
    "\n",
    "    ade, fde = compute_ade_fde(predicted_trajectory_x, predicted_trajectory_y, gt_future_x, gt_future_y)\n",
    "    total_ade += ade\n",
    "    total_fde += fde\n",
    "# divide by the number of frames to get the average\n",
    "average_ade =  total_ade / (max_frame - 20)\n",
    "average_fde = total_fde / (max_frame - 20)\n",
    "print(f\"ade is {average_ade} while fde is {average_fde}\")"
   ]
  },
  {
   "cell_type": "code",
   "execution_count": 14,
   "metadata": {},
   "outputs": [
    {
     "name": "stdout",
     "output_type": "stream",
     "text": [
      "ade is 0.887081115053536 while fde is 1.6269195383430344\n"
     ]
    }
   ],
   "source": [
    "import numpy as np\n",
    "\n",
    "def polynomial_func(x, a, b):\n",
    "    return a * x + b\n",
    "\n",
    "def predict_trajectory(past_x, past_y, future_steps=12):\n",
    "    # Number of past timesteps\n",
    "    past_steps = len(past_x)\n",
    "    \n",
    "    # Prepare the input features (time steps)\n",
    "    t = np.array(range(past_steps))\n",
    "    \n",
    "    # Fit the polynomial curve\n",
    "    t_to_y_coeffs, _ = curve_fit(polynomial_func, t, past_y)\n",
    "    \n",
    "    # Predict future positions\n",
    "    future_time_steps = np.array(range(past_steps, past_steps + future_steps))\n",
    "    future_y_positions = polynomial_func(future_time_steps, *t_to_y_coeffs)\n",
    "    # use future x positions to predict future y positions\n",
    "    y_to_x_coeffs, _ = curve_fit(polynomial_func, past_y, past_x)\n",
    "    future_x_positions = polynomial_func(future_y_positions, *y_to_x_coeffs)\n",
    "    \n",
    "    return future_x_positions, future_y_positions\n",
    "\n",
    "# create past_x data and past_y data and gt_future_x and gt_future_y for all frames which have 8 past and 12 future steps\n",
    "max_frame = int(df[\"frame\"].max())\n",
    "total_ade = 0\n",
    "total_fde = 0\n",
    "for i in range(7, max_frame - 13):\n",
    "    past_x = df[df[\"pedestrian_id\"] == 1][\"x\"].values[i-7:i+1]\n",
    "    past_y = df[df[\"pedestrian_id\"] == 1][\"y\"].values[i-7:i+1]\n",
    "    gt_future_x = df[df[\"pedestrian_id\"] == 1][\"x\"].values[i+1:i+13]\n",
    "    gt_future_y = df[df[\"pedestrian_id\"] == 1][\"y\"].values[i+1:i+13]\n",
    "\n",
    "    predicted_trajectory_x, predicted_trajectory_y = predict_trajectory(past_x, past_y)\n",
    "\n",
    "    ade, fde = compute_ade_fde(predicted_trajectory_x, predicted_trajectory_y, gt_future_x, gt_future_y)\n",
    "    total_ade += ade\n",
    "    total_fde += fde\n",
    "# divide by the number of frames to get the average\n",
    "average_ade =  total_ade / (max_frame - 20)\n",
    "average_fde = total_fde / (max_frame - 20)\n",
    "print(f\"ade is {average_ade} while fde is {average_fde}\")"
   ]
  },
  {
   "cell_type": "code",
   "execution_count": 5,
   "metadata": {},
   "outputs": [
    {
     "name": "stdout",
     "output_type": "stream",
     "text": [
      "Predicted trajectory:\n",
      "[[  5.  14.]\n",
      " [  6.  45.]\n",
      " [  7. 103.]\n",
      " [  8. 196.]\n",
      " [  9. 332.]]\n"
     ]
    }
   ],
   "source": [
    "import numpy as np\n",
    "from scipy.interpolate import CubicSpline\n",
    "\n",
    "# Create sample pedestrian trajectory data\n",
    "trajectory_data = np.array([[0.0, 0.0], [1.0, 2.0], [2.0, 3.0], [3.0, 1.0], [4.0, 2.0]])\n",
    "\n",
    "# Extract time steps and positions from the trajectory data\n",
    "time_steps = trajectory_data[:, 0]\n",
    "x_positions = trajectory_data[:, 1]\n",
    "\n",
    "# Create a cubic spline interpolation function\n",
    "spline = CubicSpline(time_steps, x_positions)\n",
    "\n",
    "# Generate future time steps for prediction\n",
    "num_predictions = 5\n",
    "future_time_steps = np.arange(time_steps[-1] + 1, time_steps[-1] + num_predictions + 1)\n",
    "\n",
    "# Predict future positions using the spline interpolation\n",
    "predicted_positions = spline(future_time_steps)\n",
    "\n",
    "# Print the predicted trajectory\n",
    "print(\"Predicted trajectory:\")\n",
    "print(np.column_stack((future_time_steps, predicted_positions)))"
   ]
  }
 ],
 "metadata": {
  "kernelspec": {
   "display_name": "default",
   "language": "python",
   "name": "python3"
  },
  "language_info": {
   "codemirror_mode": {
    "name": "ipython",
    "version": 3
   },
   "file_extension": ".py",
   "mimetype": "text/x-python",
   "name": "python",
   "nbconvert_exporter": "python",
   "pygments_lexer": "ipython3",
   "version": "3.11.4"
  }
 },
 "nbformat": 4,
 "nbformat_minor": 2
}
